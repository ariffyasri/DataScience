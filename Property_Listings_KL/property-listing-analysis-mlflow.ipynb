{
 "cells": [
  {
   "cell_type": "markdown",
   "metadata": {},
   "source": [
    "This project more focusing on using MLFlow library which can help us to organized our machine learning project.\n",
    "\n",
    "Credit to this notebook's author : https://www.kaggle.com/embed/dragonduck/property-listing-analysis?kernelSessionId=16710647"
   ]
  },
  {
   "cell_type": "markdown",
   "metadata": {},
   "source": [
    "# Imports"
   ]
  },
  {
   "cell_type": "code",
   "execution_count": 2,
   "metadata": {
    "ExecuteTime": {
     "end_time": "2021-07-24T04:13:35.085832Z",
     "start_time": "2021-07-24T04:13:30.403794Z"
    }
   },
   "outputs": [],
   "source": [
    "import numpy as np\n",
    "np.random.seed(101)\n",
    "import requests\n",
    "import time\n",
    "import os\n",
    "import requests\n",
    "from bs4 import BeautifulSoup\n",
    "import pandas as pd\n",
    "import os\n",
    "import re\n",
    "import seaborn as sns\n",
    "%matplotlib inline\n",
    "import matplotlib.pyplot as plt\n",
    "import sklearn.model_selection\n",
    "import sklearn.linear_model\n",
    "import sklearn.feature_selection\n",
    "import sklearn.preprocessing\n",
    "import sklearn.metrics\n",
    "import keras.models\n",
    "import keras.layers"
   ]
  },
  {
   "cell_type": "markdown",
   "metadata": {},
   "source": [
    "# Data Preprocessing\n",
    "The raw data that I collected needs to be preprocessed and the columns cleaned."
   ]
  },
  {
   "cell_type": "code",
   "execution_count": 3,
   "metadata": {
    "ExecuteTime": {
     "end_time": "2021-07-24T04:13:35.189345Z",
     "start_time": "2021-07-24T04:13:35.087785Z"
    }
   },
   "outputs": [],
   "source": [
    "properties = pd.read_csv(\"raw-data/data_kaggle.csv\")"
   ]
  },
  {
   "cell_type": "code",
   "execution_count": 4,
   "metadata": {
    "ExecuteTime": {
     "end_time": "2021-07-24T04:13:35.212336Z",
     "start_time": "2021-07-24T04:13:35.192274Z"
    }
   },
   "outputs": [
    {
     "data": {
      "text/html": [
       "<div>\n",
       "<style scoped>\n",
       "    .dataframe tbody tr th:only-of-type {\n",
       "        vertical-align: middle;\n",
       "    }\n",
       "\n",
       "    .dataframe tbody tr th {\n",
       "        vertical-align: top;\n",
       "    }\n",
       "\n",
       "    .dataframe thead th {\n",
       "        text-align: right;\n",
       "    }\n",
       "</style>\n",
       "<table border=\"1\" class=\"dataframe\">\n",
       "  <thead>\n",
       "    <tr style=\"text-align: right;\">\n",
       "      <th></th>\n",
       "      <th>Location</th>\n",
       "      <th>Price</th>\n",
       "      <th>Rooms</th>\n",
       "      <th>Bathrooms</th>\n",
       "      <th>Car Parks</th>\n",
       "      <th>Property Type</th>\n",
       "      <th>Size</th>\n",
       "      <th>Furnishing</th>\n",
       "    </tr>\n",
       "  </thead>\n",
       "  <tbody>\n",
       "    <tr>\n",
       "      <th>0</th>\n",
       "      <td>KLCC, Kuala Lumpur</td>\n",
       "      <td>RM 1,250,000</td>\n",
       "      <td>2+1</td>\n",
       "      <td>3.0</td>\n",
       "      <td>2.0</td>\n",
       "      <td>Serviced Residence</td>\n",
       "      <td>Built-up : 1,335 sq. ft.</td>\n",
       "      <td>Fully Furnished</td>\n",
       "    </tr>\n",
       "    <tr>\n",
       "      <th>1</th>\n",
       "      <td>Damansara Heights, Kuala Lumpur</td>\n",
       "      <td>RM 6,800,000</td>\n",
       "      <td>6</td>\n",
       "      <td>7.0</td>\n",
       "      <td>NaN</td>\n",
       "      <td>Bungalow</td>\n",
       "      <td>Land area : 6900 sq. ft.</td>\n",
       "      <td>Partly Furnished</td>\n",
       "    </tr>\n",
       "    <tr>\n",
       "      <th>2</th>\n",
       "      <td>Dutamas, Kuala Lumpur</td>\n",
       "      <td>RM 1,030,000</td>\n",
       "      <td>3</td>\n",
       "      <td>4.0</td>\n",
       "      <td>2.0</td>\n",
       "      <td>Condominium (Corner)</td>\n",
       "      <td>Built-up : 1,875 sq. ft.</td>\n",
       "      <td>Partly Furnished</td>\n",
       "    </tr>\n",
       "    <tr>\n",
       "      <th>3</th>\n",
       "      <td>Cheras, Kuala Lumpur</td>\n",
       "      <td>NaN</td>\n",
       "      <td>NaN</td>\n",
       "      <td>NaN</td>\n",
       "      <td>NaN</td>\n",
       "      <td>NaN</td>\n",
       "      <td>NaN</td>\n",
       "      <td>NaN</td>\n",
       "    </tr>\n",
       "    <tr>\n",
       "      <th>4</th>\n",
       "      <td>Bukit Jalil, Kuala Lumpur</td>\n",
       "      <td>RM 900,000</td>\n",
       "      <td>4+1</td>\n",
       "      <td>3.0</td>\n",
       "      <td>2.0</td>\n",
       "      <td>Condominium (Corner)</td>\n",
       "      <td>Built-up : 1,513 sq. ft.</td>\n",
       "      <td>Partly Furnished</td>\n",
       "    </tr>\n",
       "  </tbody>\n",
       "</table>\n",
       "</div>"
      ],
      "text/plain": [
       "                          Location         Price Rooms  Bathrooms  Car Parks  \\\n",
       "0               KLCC, Kuala Lumpur  RM 1,250,000   2+1        3.0        2.0   \n",
       "1  Damansara Heights, Kuala Lumpur  RM 6,800,000     6        7.0        NaN   \n",
       "2            Dutamas, Kuala Lumpur  RM 1,030,000     3        4.0        2.0   \n",
       "3             Cheras, Kuala Lumpur           NaN   NaN        NaN        NaN   \n",
       "4        Bukit Jalil, Kuala Lumpur    RM 900,000   4+1        3.0        2.0   \n",
       "\n",
       "          Property Type                      Size        Furnishing  \n",
       "0    Serviced Residence  Built-up : 1,335 sq. ft.   Fully Furnished  \n",
       "1              Bungalow  Land area : 6900 sq. ft.  Partly Furnished  \n",
       "2  Condominium (Corner)  Built-up : 1,875 sq. ft.  Partly Furnished  \n",
       "3                   NaN                       NaN               NaN  \n",
       "4  Condominium (Corner)  Built-up : 1,513 sq. ft.  Partly Furnished  "
      ]
     },
     "execution_count": 4,
     "metadata": {},
     "output_type": "execute_result"
    }
   ],
   "source": [
    "properties.head()"
   ]
  },
  {
   "cell_type": "markdown",
   "metadata": {},
   "source": [
    "## Price\n",
    "As a first step, I'll remove all entries with missing prices as the price will be one of the target features to predict down the road."
   ]
  },
  {
   "cell_type": "code",
   "execution_count": 5,
   "metadata": {
    "ExecuteTime": {
     "end_time": "2021-07-24T04:13:35.250422Z",
     "start_time": "2021-07-24T04:13:35.214289Z"
    }
   },
   "outputs": [],
   "source": [
    "properties = properties.loc[~properties[\"Price\"].isna()]"
   ]
  },
  {
   "cell_type": "markdown",
   "metadata": {},
   "source": [
    "Next, I want to make sure that every remaining entries matches the same format of \"RM\" followed by commas and digits."
   ]
  },
  {
   "cell_type": "code",
   "execution_count": 6,
   "metadata": {
    "ExecuteTime": {
     "end_time": "2021-07-24T04:13:35.309015Z",
     "start_time": "2021-07-24T04:13:35.252374Z"
    }
   },
   "outputs": [
    {
     "name": "stdout",
     "output_type": "stream",
     "text": [
      "There are 0 entries in the wrong format.\n"
     ]
    }
   ],
   "source": [
    "incorrect_entries = np.sum(~properties[\"Price\"].str.match(r\"RM [0-9,]*$\"))\n",
    "print(\"There are {} entries in the wrong format.\".format(incorrect_entries))"
   ]
  },
  {
   "cell_type": "code",
   "execution_count": 7,
   "metadata": {
    "ExecuteTime": {
     "end_time": "2021-07-24T04:13:35.389089Z",
     "start_time": "2021-07-24T04:13:35.310966Z"
    }
   },
   "outputs": [],
   "source": [
    "# Strip the price of the \"RM\" as well as commas\n",
    "def strip_price(text):\n",
    "    text = text.replace(\"RM\", \"\")\n",
    "    text = text.replace(\",\", \"\")\n",
    "    text = text.strip()\n",
    "    return int(text)\n",
    "    \n",
    "properties[\"Price\"] = properties[\"Price\"].apply(strip_price)"
   ]
  },
  {
   "cell_type": "markdown",
   "metadata": {},
   "source": [
    "## Location\n",
    "\n",
    "A common issue is capitalization, so let's make everything lower case. Additionally, let's remove the city name as I explicitly only scraped entries from Kuala Lumpur."
   ]
  },
  {
   "cell_type": "code",
   "execution_count": 8,
   "metadata": {
    "ExecuteTime": {
     "end_time": "2021-07-24T04:13:35.477954Z",
     "start_time": "2021-07-24T04:13:35.391043Z"
    }
   },
   "outputs": [],
   "source": [
    "properties[\"Location\"] = properties[\"Location\"].str.lower()\n",
    "properties[\"Location\"] = properties[\"Location\"].str.replace(r\", kuala lumpur$\", \"\", regex=True)"
   ]
  },
  {
   "cell_type": "markdown",
   "metadata": {},
   "source": [
    "A look at the unique location values shows that they are reasonably standardized. "
   ]
  },
  {
   "cell_type": "code",
   "execution_count": 9,
   "metadata": {
    "ExecuteTime": {
     "end_time": "2021-07-24T04:13:35.495534Z",
     "start_time": "2021-07-24T04:13:35.481861Z"
    }
   },
   "outputs": [
    {
     "data": {
      "text/plain": [
       "['adiva desa parkcity',\n",
       " 'alam damai',\n",
       " 'ampang',\n",
       " 'ampang hilir',\n",
       " 'bandar damai perdana',\n",
       " 'bandar menjalara',\n",
       " 'bandar sri damansara',\n",
       " 'bandar tasik selatan',\n",
       " 'bangsar',\n",
       " 'bangsar south',\n",
       " 'batu caves',\n",
       " 'brickfields',\n",
       " 'bukit  persekutuan',\n",
       " 'bukit bintang',\n",
       " 'bukit damansara',\n",
       " 'bukit jalil',\n",
       " 'bukit kiara',\n",
       " 'bukit ledang',\n",
       " 'bukit tunku (kenny hills)',\n",
       " 'canary residence',\n",
       " 'casa rimba',\n",
       " 'chan sow lin',\n",
       " 'cheras',\n",
       " 'city centre',\n",
       " 'country heights damansara',\n",
       " 'cyberjaya',\n",
       " 'damansara',\n",
       " 'damansara heights',\n",
       " 'desa pandan',\n",
       " 'desa parkcity',\n",
       " 'desa petaling',\n",
       " 'duta nusantara',\n",
       " 'dutamas',\n",
       " 'federal hill',\n",
       " 'gombak',\n",
       " 'gurney',\n",
       " 'happy garden',\n",
       " 'jalan ipoh',\n",
       " 'jalan klang lama (old klang road)',\n",
       " 'jalan kuching',\n",
       " 'jalan sultan ismail',\n",
       " 'jalan u-thant',\n",
       " 'jinjang',\n",
       " 'kemensah',\n",
       " 'kepong',\n",
       " 'keramat',\n",
       " 'kl city',\n",
       " 'kl eco city',\n",
       " 'kl sentral',\n",
       " 'klcc',\n",
       " 'kota damansara',\n",
       " 'kuala lumpur',\n",
       " 'kuchai lama',\n",
       " 'landed sd',\n",
       " 'mid valley city',\n",
       " 'mont kiara',\n",
       " 'off gasing indah,',\n",
       " 'other',\n",
       " 'oug',\n",
       " 'pandan indah',\n",
       " 'pandan jaya',\n",
       " 'pandan perdana',\n",
       " 'pantai',\n",
       " 'petaling jaya',\n",
       " 'puchong',\n",
       " 'rawang',\n",
       " 'salak selatan',\n",
       " 'santuari park pantai',\n",
       " 'segambut',\n",
       " 'semarak',\n",
       " 'sentul',\n",
       " 'seputeh',\n",
       " 'seri kembangan',\n",
       " 'setapak',\n",
       " 'setiawangsa',\n",
       " 'singapore',\n",
       " 'solaris dutamas',\n",
       " 'sri damansara',\n",
       " 'sri hartamas',\n",
       " 'sri kembangan',\n",
       " 'sri petaling',\n",
       " 'sungai besi',\n",
       " 'sungai long sl8',\n",
       " 'sungai penchala',\n",
       " 'sunway spk',\n",
       " 'taman cheras perdana',\n",
       " 'taman connaught',\n",
       " 'taman desa',\n",
       " 'taman duta',\n",
       " 'taman ibukota',\n",
       " 'taman melati',\n",
       " 'taman melawati',\n",
       " 'taman sri keramat',\n",
       " 'taman tar',\n",
       " 'taman tun dr ismail',\n",
       " 'taman wangsa permai',\n",
       " 'taman yarl',\n",
       " 'taman yarl oug',\n",
       " 'taman yarl, uog',\n",
       " 'taming jaya',\n",
       " 'the mines resort',\n",
       " 'titiwangsa',\n",
       " 'u-thant',\n",
       " 'ukay heights',\n",
       " 'wangsa maju',\n",
       " 'wangsa melawati']"
      ]
     },
     "execution_count": 9,
     "metadata": {},
     "output_type": "execute_result"
    }
   ],
   "source": [
    "sorted(properties[\"Location\"].unique())"
   ]
  },
  {
   "cell_type": "markdown",
   "metadata": {},
   "source": [
    "A bigger issue are regions with very few properties posted. The frequency distribution, plotted logarithmically, looks as follows. A significant number of regions have very few properties listed, making them difficult to work with. I would need to have relative geographical locations of each neighborhood to properly clean the location data. As an initial step, I simply remove entries in locations with fewer than $100$ properties listed."
   ]
  },
  {
   "cell_type": "code",
   "execution_count": 10,
   "metadata": {
    "ExecuteTime": {
     "end_time": "2021-07-24T04:13:36.376127Z",
     "start_time": "2021-07-24T04:13:35.498461Z"
    }
   },
   "outputs": [
    {
     "data": {
      "image/png": "[encoded data removed]",
      "text/plain": [
       "<Figure size 432x288 with 1 Axes>"
      ]
     },
     "metadata": {
      "needs_background": "light"
     },
     "output_type": "display_data"
    }
   ],
   "source": [
    "properties[\"Location\"].value_counts().plot(logy=True);"
   ]
  },
  {
   "cell_type": "code",
   "execution_count": 11,
   "metadata": {
    "ExecuteTime": {
     "end_time": "2021-07-24T04:13:36.459149Z",
     "start_time": "2021-07-24T04:13:36.378078Z"
    }
   },
   "outputs": [],
   "source": [
    "significant_locations = properties[\"Location\"].value_counts()[\n",
    "    properties[\"Location\"].value_counts() >= 100].index\n",
    "\n",
    "properties = properties.loc[np.isin(properties[\"Location\"], significant_locations)]"
   ]
  },
  {
   "cell_type": "markdown",
   "metadata": {},
   "source": [
    "A new look at the locations shows that there are no more ambiguous names."
   ]
  },
  {
   "cell_type": "code",
   "execution_count": 12,
   "metadata": {
    "ExecuteTime": {
     "end_time": "2021-07-24T04:13:36.473798Z",
     "start_time": "2021-07-24T04:13:36.461102Z"
    }
   },
   "outputs": [
    {
     "data": {
      "text/plain": [
       "['ampang',\n",
       " 'ampang hilir',\n",
       " 'bandar damai perdana',\n",
       " 'bandar menjalara',\n",
       " 'bangsar',\n",
       " 'bangsar south',\n",
       " 'batu caves',\n",
       " 'brickfields',\n",
       " 'bukit bintang',\n",
       " 'bukit jalil',\n",
       " 'bukit tunku (kenny hills)',\n",
       " 'cheras',\n",
       " 'city centre',\n",
       " 'country heights damansara',\n",
       " 'damansara heights',\n",
       " 'desa pandan',\n",
       " 'desa parkcity',\n",
       " 'desa petaling',\n",
       " 'dutamas',\n",
       " 'jalan ipoh',\n",
       " 'jalan klang lama (old klang road)',\n",
       " 'jalan kuching',\n",
       " 'jalan sultan ismail',\n",
       " 'kepong',\n",
       " 'keramat',\n",
       " 'kl city',\n",
       " 'kl eco city',\n",
       " 'kl sentral',\n",
       " 'klcc',\n",
       " 'kuchai lama',\n",
       " 'mont kiara',\n",
       " 'oug',\n",
       " 'pandan perdana',\n",
       " 'pantai',\n",
       " 'salak selatan',\n",
       " 'segambut',\n",
       " 'sentul',\n",
       " 'seputeh',\n",
       " 'setapak',\n",
       " 'setiawangsa',\n",
       " 'sri hartamas',\n",
       " 'sri petaling',\n",
       " 'sungai besi',\n",
       " 'sunway spk',\n",
       " 'taman desa',\n",
       " 'taman melawati',\n",
       " 'taman tun dr ismail',\n",
       " 'titiwangsa',\n",
       " 'wangsa maju']"
      ]
     },
     "execution_count": 12,
     "metadata": {},
     "output_type": "execute_result"
    }
   ],
   "source": [
    "sorted(properties[\"Location\"].unique())"
   ]
  },
  {
   "cell_type": "markdown",
   "metadata": {},
   "source": [
    "## Number of Rooms\n",
    "The number of rooms contains some irregularities. For example, it is common for rooms to be listed as N+M instead of the total number of rooms. I want to clean the `Rooms` column and introduce a numerical equivalent."
   ]
  },
  {
   "cell_type": "code",
   "execution_count": 13,
   "metadata": {
    "ExecuteTime": {
     "end_time": "2021-07-24T04:13:36.486493Z",
     "start_time": "2021-07-24T04:13:36.475750Z"
    }
   },
   "outputs": [
    {
     "data": {
      "text/plain": [
       "['1',\n",
       " '1+1',\n",
       " '1+2',\n",
       " '10',\n",
       " '10+',\n",
       " '10+1',\n",
       " '11',\n",
       " '11+1',\n",
       " '12',\n",
       " '12+',\n",
       " '13',\n",
       " '13+',\n",
       " '13+1',\n",
       " '14',\n",
       " '15+',\n",
       " '16',\n",
       " '18',\n",
       " '2',\n",
       " '2+1',\n",
       " '2+2',\n",
       " '20 Above',\n",
       " '3',\n",
       " '3+1',\n",
       " '3+2',\n",
       " '4',\n",
       " '4+1',\n",
       " '4+2',\n",
       " '5',\n",
       " '5+1',\n",
       " '5+2',\n",
       " '6',\n",
       " '6+',\n",
       " '6+1',\n",
       " '7',\n",
       " '7+',\n",
       " '7+1',\n",
       " '8',\n",
       " '8+',\n",
       " '8+1',\n",
       " '9',\n",
       " '9+',\n",
       " '9+1',\n",
       " 'Studio',\n",
       " 'nan']"
      ]
     },
     "execution_count": 13,
     "metadata": {},
     "output_type": "execute_result"
    }
   ],
   "source": [
    "sorted(properties[\"Rooms\"].unique().astype(str))"
   ]
  },
  {
   "cell_type": "code",
   "execution_count": 14,
   "metadata": {
    "ExecuteTime": {
     "end_time": "2021-07-24T04:13:36.666195Z",
     "start_time": "2021-07-24T04:13:36.488445Z"
    }
   },
   "outputs": [],
   "source": [
    "def convert_room_num(rooms):\n",
    "    try:\n",
    "        if rooms.endswith(\"+\"):\n",
    "            return int(rooms[:-1])\n",
    "        if re.search(\"[0-9]+\\+[0-9]+\", rooms) is not None:\n",
    "            tmp = rooms.split(\"+\")\n",
    "            return int(tmp[0]) + int(tmp[1])\n",
    "        if rooms == \"20 Above\":\n",
    "            return 20\n",
    "        if rooms == \"Studio\":\n",
    "            return 1\n",
    "        return int(rooms)\n",
    "    except AttributeError:\n",
    "        return rooms\n",
    "\n",
    "properties[\"Rooms Num\"] = properties[\"Rooms\"].apply(convert_room_num)"
   ]
  },
  {
   "cell_type": "code",
   "execution_count": 15,
   "metadata": {
    "ExecuteTime": {
     "end_time": "2021-07-24T04:13:36.677915Z",
     "start_time": "2021-07-24T04:13:36.668148Z"
    }
   },
   "outputs": [
    {
     "data": {
      "text/plain": [
       "3.0     15938\n",
       "4.0     13027\n",
       "5.0      6827\n",
       "2.0      6547\n",
       "6.0      3747\n",
       "1.0      3191\n",
       "7.0      1564\n",
       "NaN      1560\n",
       "8.0       361\n",
       "9.0       102\n",
       "10.0       45\n",
       "12.0       14\n",
       "11.0        8\n",
       "20.0        7\n",
       "13.0        4\n",
       "14.0        3\n",
       "16.0        2\n",
       "15.0        1\n",
       "18.0        1\n",
       "Name: Rooms Num, dtype: int64"
      ]
     },
     "execution_count": 15,
     "metadata": {},
     "output_type": "execute_result"
    }
   ],
   "source": [
    "properties[\"Rooms Num\"].value_counts(dropna=False)"
   ]
  },
  {
   "cell_type": "markdown",
   "metadata": {},
   "source": [
    "# Property Type\n",
    "There are several different property types that are typical for Malaysia. A brief glance at the full list  of property types seems overwhelming at first."
   ]
  },
  {
   "cell_type": "code",
   "execution_count": 16,
   "metadata": {
    "ExecuteTime": {
     "end_time": "2021-07-24T04:13:36.703304Z",
     "start_time": "2021-07-24T04:13:36.679868Z"
    }
   },
   "outputs": [
    {
     "data": {
      "text/plain": [
       "Condominium                               11447\n",
       "Serviced Residence                         7176\n",
       "Condominium (Corner)                       5687\n",
       "Condominium (Intermediate)                 5113\n",
       "Serviced Residence (Intermediate)          3255\n",
       "                                          ...  \n",
       "4-sty Terrace/Link House (Penthouse)          1\n",
       "3-sty Terrace/Link House (Triplex)            1\n",
       "2-sty Terrace/Link House (Penthouse)          1\n",
       "2.5-sty Terrace/Link House (Penthouse)        1\n",
       "4.5-sty Terrace/Link House (Corner)           1\n",
       "Name: Property Type, Length: 95, dtype: int64"
      ]
     },
     "execution_count": 16,
     "metadata": {},
     "output_type": "execute_result"
    }
   ],
   "source": [
    "properties[\"Property Type\"].value_counts()"
   ]
  },
  {
   "cell_type": "markdown",
   "metadata": {},
   "source": [
    "I can greatly simplify the property types, however, by trimming information. For example, there are many different variations of the Terrace/Link houses that can be grouped together. I create a new category of only the property type \"super groups\"."
   ]
  },
  {
   "cell_type": "code",
   "execution_count": 17,
   "metadata": {
    "ExecuteTime": {
     "end_time": "2021-07-24T04:13:37.059316Z",
     "start_time": "2021-07-24T04:13:36.705257Z"
    }
   },
   "outputs": [],
   "source": [
    "def simplify_property_type(prop_type):\n",
    "    super_types = [\n",
    "        \"Terrace/Link House\", \"Serviced Residence\", \"Condominium\", \n",
    "        \"Semi-detached House\", \"Bungalow\", \"Apartment\", \"Townhouse\", \n",
    "        \"Flat\", \"Residential Land\", \"Cluster House\"]\n",
    "    for super_type in super_types:\n",
    "        if re.search(super_type, prop_type, flags=re.IGNORECASE) is not None:\n",
    "            return super_type\n",
    "    \n",
    "    return prop_type\n",
    "\n",
    "properties[\"Property Type Supergroup\"] = properties[\"Property Type\"].apply(simplify_property_type)"
   ]
  },
  {
   "cell_type": "code",
   "execution_count": 18,
   "metadata": {
    "ExecuteTime": {
     "end_time": "2021-07-24T04:13:37.072013Z",
     "start_time": "2021-07-24T04:13:37.061269Z"
    }
   },
   "outputs": [
    {
     "data": {
      "text/plain": [
       "Condominium            23149\n",
       "Serviced Residence     13399\n",
       "Terrace/Link House      7567\n",
       "Bungalow                3598\n",
       "Semi-detached House     2102\n",
       "Apartment               1621\n",
       "Residential Land         669\n",
       "Townhouse                508\n",
       "Flat                     330\n",
       "Cluster House              6\n",
       "Name: Property Type Supergroup, dtype: int64"
      ]
     },
     "execution_count": 18,
     "metadata": {},
     "output_type": "execute_result"
    }
   ],
   "source": [
    "properties[\"Property Type Supergroup\"].value_counts(dropna=False)"
   ]
  },
  {
   "cell_type": "markdown",
   "metadata": {},
   "source": [
    "## Furnishing\n",
    "The furnishing column thankfully doesn't require any cleaning."
   ]
  },
  {
   "cell_type": "code",
   "execution_count": 19,
   "metadata": {
    "ExecuteTime": {
     "end_time": "2021-07-24T04:13:37.115956Z",
     "start_time": "2021-07-24T04:13:37.073966Z"
    }
   },
   "outputs": [
    {
     "data": {
      "text/plain": [
       "Partly Furnished    26222\n",
       "Fully Furnished     13846\n",
       "NaN                  6687\n",
       "Unfurnished          5611\n",
       "Unknown               583\n",
       "Name: Furnishing, dtype: int64"
      ]
     },
     "execution_count": 19,
     "metadata": {},
     "output_type": "execute_result"
    }
   ],
   "source": [
    "properties[\"Furnishing\"].value_counts(dropna=False)"
   ]
  },
  {
   "cell_type": "markdown",
   "metadata": {},
   "source": [
    "## Size\n",
    "The size apparently always has the same structure:\n",
    "\n",
    "    [Built-up/Land area] : [Value] sq. ft."
   ]
  },
  {
   "cell_type": "code",
   "execution_count": 20,
   "metadata": {
    "ExecuteTime": {
     "end_time": "2021-07-24T04:13:37.151111Z",
     "start_time": "2021-07-24T04:13:37.117909Z"
    }
   },
   "outputs": [
    {
     "data": {
      "text/html": [
       "<div>\n",
       "<style scoped>\n",
       "    .dataframe tbody tr th:only-of-type {\n",
       "        vertical-align: middle;\n",
       "    }\n",
       "\n",
       "    .dataframe tbody tr th {\n",
       "        vertical-align: top;\n",
       "    }\n",
       "\n",
       "    .dataframe thead th {\n",
       "        text-align: right;\n",
       "    }\n",
       "</style>\n",
       "<table border=\"1\" class=\"dataframe\">\n",
       "  <thead>\n",
       "    <tr style=\"text-align: right;\">\n",
       "      <th></th>\n",
       "      <th>Size</th>\n",
       "    </tr>\n",
       "  </thead>\n",
       "  <tbody>\n",
       "    <tr>\n",
       "      <th>44370</th>\n",
       "      <td>Built-up : 9,000 sq. ft.</td>\n",
       "    </tr>\n",
       "    <tr>\n",
       "      <th>24474</th>\n",
       "      <td>Built-up : 2,002 sq. ft.</td>\n",
       "    </tr>\n",
       "    <tr>\n",
       "      <th>38244</th>\n",
       "      <td>Land area : 3046 sq. ft.</td>\n",
       "    </tr>\n",
       "    <tr>\n",
       "      <th>11381</th>\n",
       "      <td>Built-up : 522 sq. ft.</td>\n",
       "    </tr>\n",
       "    <tr>\n",
       "      <th>36948</th>\n",
       "      <td>Land area : 1659 sq. ft.</td>\n",
       "    </tr>\n",
       "    <tr>\n",
       "      <th>45748</th>\n",
       "      <td>Built-up : 950 sq. ft.</td>\n",
       "    </tr>\n",
       "    <tr>\n",
       "      <th>48529</th>\n",
       "      <td>Land area : 6000 sq. ft.</td>\n",
       "    </tr>\n",
       "    <tr>\n",
       "      <th>36563</th>\n",
       "      <td>Built-up : 729 sq. ft.</td>\n",
       "    </tr>\n",
       "    <tr>\n",
       "      <th>36203</th>\n",
       "      <td>Built-up : 3,983 sq. ft.</td>\n",
       "    </tr>\n",
       "    <tr>\n",
       "      <th>16770</th>\n",
       "      <td>Built-up : 900 sq. ft.</td>\n",
       "    </tr>\n",
       "    <tr>\n",
       "      <th>9866</th>\n",
       "      <td>Built-up : 750 sq. ft.</td>\n",
       "    </tr>\n",
       "    <tr>\n",
       "      <th>48168</th>\n",
       "      <td>Land area : 10689 sq. ft.</td>\n",
       "    </tr>\n",
       "    <tr>\n",
       "      <th>44076</th>\n",
       "      <td>Land area : 22000 sq. ft.</td>\n",
       "    </tr>\n",
       "    <tr>\n",
       "      <th>29281</th>\n",
       "      <td>Built-up : 850 sq. ft.</td>\n",
       "    </tr>\n",
       "    <tr>\n",
       "      <th>944</th>\n",
       "      <td>Built-up : 4,450 sq. ft.</td>\n",
       "    </tr>\n",
       "    <tr>\n",
       "      <th>50095</th>\n",
       "      <td>Built-up : 3,146 sq. ft.</td>\n",
       "    </tr>\n",
       "    <tr>\n",
       "      <th>31355</th>\n",
       "      <td>Built-up : 1,012 sq. ft.</td>\n",
       "    </tr>\n",
       "    <tr>\n",
       "      <th>53711</th>\n",
       "      <td>Land area : 732 sq. ft.</td>\n",
       "    </tr>\n",
       "    <tr>\n",
       "      <th>5022</th>\n",
       "      <td>Built-up : 1,091 sq. ft.</td>\n",
       "    </tr>\n",
       "    <tr>\n",
       "      <th>40956</th>\n",
       "      <td>Built-up : 2,626 sq. ft.</td>\n",
       "    </tr>\n",
       "    <tr>\n",
       "      <th>3961</th>\n",
       "      <td>Land area : 5440 sq. ft.</td>\n",
       "    </tr>\n",
       "    <tr>\n",
       "      <th>29163</th>\n",
       "      <td>Land area : 18212.54 sq. ft.</td>\n",
       "    </tr>\n",
       "    <tr>\n",
       "      <th>21204</th>\n",
       "      <td>Built-up : 904 sq. ft.</td>\n",
       "    </tr>\n",
       "    <tr>\n",
       "      <th>44105</th>\n",
       "      <td>Built-up : 1,378 sq. ft.</td>\n",
       "    </tr>\n",
       "    <tr>\n",
       "      <th>15861</th>\n",
       "      <td>Land area : 1650 sq. ft.</td>\n",
       "    </tr>\n",
       "  </tbody>\n",
       "</table>\n",
       "</div>"
      ],
      "text/plain": [
       "                               Size\n",
       "44370      Built-up : 9,000 sq. ft.\n",
       "24474      Built-up : 2,002 sq. ft.\n",
       "38244      Land area : 3046 sq. ft.\n",
       "11381        Built-up : 522 sq. ft.\n",
       "36948      Land area : 1659 sq. ft.\n",
       "45748        Built-up : 950 sq. ft.\n",
       "48529      Land area : 6000 sq. ft.\n",
       "36563        Built-up : 729 sq. ft.\n",
       "36203      Built-up : 3,983 sq. ft.\n",
       "16770        Built-up : 900 sq. ft.\n",
       "9866         Built-up : 750 sq. ft.\n",
       "48168     Land area : 10689 sq. ft.\n",
       "44076     Land area : 22000 sq. ft.\n",
       "29281        Built-up : 850 sq. ft.\n",
       "944        Built-up : 4,450 sq. ft.\n",
       "50095      Built-up : 3,146 sq. ft.\n",
       "31355      Built-up : 1,012 sq. ft.\n",
       "53711       Land area : 732 sq. ft.\n",
       "5022       Built-up : 1,091 sq. ft.\n",
       "40956      Built-up : 2,626 sq. ft.\n",
       "3961       Land area : 5440 sq. ft.\n",
       "29163  Land area : 18212.54 sq. ft.\n",
       "21204        Built-up : 904 sq. ft.\n",
       "44105      Built-up : 1,378 sq. ft.\n",
       "15861      Land area : 1650 sq. ft."
      ]
     },
     "execution_count": 20,
     "metadata": {},
     "output_type": "execute_result"
    }
   ],
   "source": [
    "properties[[\"Size\"]].sample(25)"
   ]
  },
  {
   "cell_type": "markdown",
   "metadata": {},
   "source": [
    "So I will create two new column that indicate whether this is built-up or land area and store the actual square footage."
   ]
  },
  {
   "cell_type": "code",
   "execution_count": 21,
   "metadata": {
    "ExecuteTime": {
     "end_time": "2021-07-24T04:13:37.274195Z",
     "start_time": "2021-07-24T04:13:37.153063Z"
    }
   },
   "outputs": [],
   "source": [
    "def split_size(val, index=0):\n",
    "    try:\n",
    "        return val.split(\":\")[index].strip()\n",
    "    except AttributeError:\n",
    "        return val\n",
    "    \n",
    "properties[\"Size Type\"] = properties[\"Size\"].apply(split_size, index=0)\n",
    "properties[\"Size Num\"] = properties[\"Size\"].apply(split_size, index=1)"
   ]
  },
  {
   "cell_type": "code",
   "execution_count": 22,
   "metadata": {
    "ExecuteTime": {
     "end_time": "2021-07-24T04:13:37.290758Z",
     "start_time": "2021-07-24T04:13:37.276108Z"
    }
   },
   "outputs": [
    {
     "data": {
      "text/plain": [
       "Built-up     37493\n",
       "Land area    14453\n",
       "NaN           1003\n",
       "Name: Size Type, dtype: int64"
      ]
     },
     "execution_count": 22,
     "metadata": {},
     "output_type": "execute_result"
    }
   ],
   "source": [
    "properties[\"Size Type\"].value_counts(dropna=False)"
   ]
  },
  {
   "cell_type": "markdown",
   "metadata": {},
   "source": [
    "Now I need to strip the new `Size_num` column and convert it to a numerical value."
   ]
  },
  {
   "cell_type": "code",
   "execution_count": 23,
   "metadata": {
    "ExecuteTime": {
     "end_time": "2021-07-24T04:13:37.322005Z",
     "start_time": "2021-07-24T04:13:37.292710Z"
    }
   },
   "outputs": [
    {
     "data": {
      "text/plain": [
       "22x75 sq. ft.    597\n",
       "1,100 sq. ft.    540\n",
       "950 sq. ft.      520\n",
       "850 sq. ft.      384\n",
       "1,200 sq. ft.    380\n",
       "                ... \n",
       "33x60 sq. ft.      1\n",
       "4,573 sq. ft.      1\n",
       "3573 sq. ft.       1\n",
       "4692 sq. ft.       1\n",
       "1544 sq. ft.       1\n",
       "Name: Size Num, Length: 5849, dtype: int64"
      ]
     },
     "execution_count": 23,
     "metadata": {},
     "output_type": "execute_result"
    }
   ],
   "source": [
    "properties['Size Num'].value_counts()"
   ]
  },
  {
   "cell_type": "code",
   "execution_count": 24,
   "metadata": {
    "ExecuteTime": {
     "end_time": "2021-07-24T04:13:37.721544Z",
     "start_time": "2021-07-24T04:13:37.325912Z"
    }
   },
   "outputs": [],
   "source": [
    "def convert_size_num(size):\n",
    "    # Attempt to trim the numbers down. Most of this is done explicitly without\n",
    "    # regex to avoid incorrect trimming, which would lead to the concatenation\n",
    "    # of numbers. I would rather have missing values than incorrectly cleaned\n",
    "    # numbers.\n",
    "    try:\n",
    "        # If it's not in square feet then I don't want to deal with all\n",
    "        # possible conversions for now.\n",
    "        if re.search(r\"sq\\.*\\s*ft\\.*\", size) is None:\n",
    "            return None\n",
    "    \n",
    "        size = size.replace(\",\", \"\") # eg 2550, 34x75 sq. ft.\n",
    "        size = size.replace(\"'\", \"\") # eg 22'x 75' sq. ft.\n",
    "        size = size.replace(\"sq. ft.\", \"\") # eg 2550, 34x75 sq. ft.\n",
    "        size = size.replace(\"sf\", \"\") # eg 646sf~1001sf sq. ft.\n",
    "        size = size.strip()\n",
    "        size = size.lower()\n",
    "        \n",
    "        add_mult_match = re.search(r\"(\\d+)\\s*\\+\\s*(\\d+)\\s*(?:x|\\*)\\s*(\\d+)\", size) # eg 10+24 x 80 sq. ft.\n",
    "        if add_mult_match is not None:\n",
    "            return int(add_mult_match.groups()[0]) + (\n",
    "                int(add_mult_match.groups()[1]) * \n",
    "                int(add_mult_match.groups()[2]))\n",
    "        \n",
    "        mult_match = re.search(r\"(\\d+)\\s*(?:x|\\*)\\s*(\\d+)\", size)\n",
    "        if mult_match is not None:\n",
    "            return int(mult_match.groups()[0]) * int(mult_match.groups()[1])\n",
    "        \n",
    "        return int(size)\n",
    "    # If any of the above doesn't work, just turn it into None/NaN\n",
    "    # We want to guarantee this column is numeric\n",
    "    except:\n",
    "        return None\n",
    "        \n",
    "properties[\"Size Num\"] = properties[\"Size Num\"].apply(convert_size_num)"
   ]
  },
  {
   "cell_type": "markdown",
   "metadata": {},
   "source": [
    "Cleaning the property sizes introduced only a small number of additional missing values."
   ]
  },
  {
   "cell_type": "code",
   "execution_count": 25,
   "metadata": {
    "ExecuteTime": {
     "end_time": "2021-07-24T04:13:37.737169Z",
     "start_time": "2021-07-24T04:13:37.723497Z"
    }
   },
   "outputs": [
    {
     "name": "stdout",
     "output_type": "stream",
     "text": [
      "Properties with missing raw size data: 1003\n",
      "Properties with missing size type data: 1003\n",
      "Properties with missing size num data: 1313\n"
     ]
    }
   ],
   "source": [
    "print(\"Properties with missing raw size data: {}\".format(properties[\"Size\"].isna().sum()))\n",
    "print(\"Properties with missing size type data: {}\".format(properties[\"Size Type\"].isna().sum()))\n",
    "print(\"Properties with missing size num data: {}\".format(properties[\"Size Num\"].isna().sum()))"
   ]
  },
  {
   "cell_type": "markdown",
   "metadata": {},
   "source": [
    "I will synchronize the missing values between the `Size Type` and `Size Num` columns."
   ]
  },
  {
   "cell_type": "code",
   "execution_count": 26,
   "metadata": {
    "ExecuteTime": {
     "end_time": "2021-07-24T04:13:37.758652Z",
     "start_time": "2021-07-24T04:13:37.739121Z"
    }
   },
   "outputs": [],
   "source": [
    "properties.loc[properties[\"Size Num\"].isna(), \"Size Type\"] = None"
   ]
  },
  {
   "cell_type": "code",
   "execution_count": 27,
   "metadata": {
    "ExecuteTime": {
     "end_time": "2021-07-24T04:13:37.783086Z",
     "start_time": "2021-07-24T04:13:37.760606Z"
    }
   },
   "outputs": [
    {
     "data": {
      "text/plain": [
       "Built-up     37455\n",
       "Land area    14181\n",
       "NaN           1313\n",
       "Name: Size Type, dtype: int64"
      ]
     },
     "execution_count": 27,
     "metadata": {},
     "output_type": "execute_result"
    }
   ],
   "source": [
    "properties.loc[:, \"Size Type\"].value_counts(dropna=False)"
   ]
  },
  {
   "cell_type": "markdown",
   "metadata": {},
   "source": [
    "## Other columns\n",
    "The number of bathrooms and car parks are standardized and do not require any further cleaning."
   ]
  },
  {
   "cell_type": "code",
   "execution_count": 28,
   "metadata": {
    "ExecuteTime": {
     "end_time": "2021-07-24T04:13:37.794804Z",
     "start_time": "2021-07-24T04:13:37.785041Z"
    }
   },
   "outputs": [
    {
     "data": {
      "text/plain": [
       "2.0     21163\n",
       "3.0      9331\n",
       "4.0      6522\n",
       "5.0      4717\n",
       "1.0      4482\n",
       "6.0      3172\n",
       "NaN      1866\n",
       "7.0      1031\n",
       "8.0       402\n",
       "9.0       142\n",
       "10.0       70\n",
       "12.0       14\n",
       "11.0       11\n",
       "20.0       10\n",
       "15.0        6\n",
       "13.0        5\n",
       "14.0        4\n",
       "16.0        1\n",
       "Name: Bathrooms, dtype: int64"
      ]
     },
     "execution_count": 28,
     "metadata": {},
     "output_type": "execute_result"
    }
   ],
   "source": [
    "properties[\"Bathrooms\"].value_counts(dropna=False)"
   ]
  },
  {
   "cell_type": "code",
   "execution_count": 29,
   "metadata": {
    "ExecuteTime": {
     "end_time": "2021-07-24T04:13:37.806523Z",
     "start_time": "2021-07-24T04:13:37.796760Z"
    }
   },
   "outputs": [
    {
     "data": {
      "text/plain": [
       "NaN     17042\n",
       "2.0     15174\n",
       "1.0     13622\n",
       "3.0      3798\n",
       "4.0      1913\n",
       "6.0       623\n",
       "5.0       501\n",
       "8.0        91\n",
       "10.0       76\n",
       "7.0        62\n",
       "12.0        7\n",
       "15.0        7\n",
       "13.0        7\n",
       "9.0         4\n",
       "28.0        4\n",
       "11.0        4\n",
       "20.0        4\n",
       "30.0        4\n",
       "16.0        2\n",
       "17.0        2\n",
       "18.0        1\n",
       "24.0        1\n",
       "Name: Car Parks, dtype: int64"
      ]
     },
     "execution_count": 29,
     "metadata": {},
     "output_type": "execute_result"
    }
   ],
   "source": [
    "properties[\"Car Parks\"].value_counts(dropna=False)"
   ]
  },
  {
   "cell_type": "markdown",
   "metadata": {},
   "source": [
    "## Price per Area / Room\n",
    "As a last step, I want to introduce the price per area and price per rooms as features"
   ]
  },
  {
   "cell_type": "code",
   "execution_count": 30,
   "metadata": {
    "ExecuteTime": {
     "end_time": "2021-07-24T04:13:37.816821Z",
     "start_time": "2021-07-24T04:13:37.808476Z"
    }
   },
   "outputs": [],
   "source": [
    "properties[\"Price per Area\"] = properties[\"Price\"] / properties[\"Size Num\"]\n",
    "properties[\"Price per Room\"] = properties[\"Price\"] / properties[\"Rooms Num\"]"
   ]
  },
  {
   "cell_type": "markdown",
   "metadata": {},
   "source": [
    "## Save Preprocessed Data"
   ]
  },
  {
   "cell_type": "code",
   "execution_count": 31,
   "metadata": {
    "ExecuteTime": {
     "end_time": "2021-07-24T04:13:38.441440Z",
     "start_time": "2021-07-24T04:13:37.818774Z"
    }
   },
   "outputs": [],
   "source": [
    "properties.to_csv(\"data/Properties_preprocessed.csv\")"
   ]
  },
  {
   "cell_type": "markdown",
   "metadata": {},
   "source": [
    "# Predictive Modelling"
   ]
  },
  {
   "cell_type": "markdown",
   "metadata": {},
   "source": [
    "## Preparing the Data\n",
    "As a short exercise in predictive modelling, I want to try to predict the price of a property based on the characteristics listed here. Due to the heterogeneity of the data, I will only look at a subset of the property listings to reduce the number of potentially confounding factors. In particular, I will:\n",
    "\n",
    "- Look only at entries with \"built-up\" area listed. This is because built-up size and land area are, strictly speaking, two different features.\n",
    "- Look only at entries without missing values for features (see below for a detailed description of which features I use).\n",
    "\n",
    "I will also be selective about the features I include in the model. As categorical features would have to be converted to dummy features, e.g. the `Rooms` feature would be converted to boolean \"has_3_rooms\", \"has_3+1_rooms\", etc., I will try to use numerical versions of the features where possible. Specifically, the following features will _not_ be used:\n",
    "\n",
    "- `Rooms`, which will be replaced with `Rooms Num`\n",
    "- `Size`, which will be replaced with `Size Num`\n",
    "- `Size Type`, as this will always be \"built-up\" in the reduced data frame)\n",
    "- `Property Type`, as there are simply too many variants. I instead use `Property Type Supergroup`.\n",
    "\n",
    "This means our model will consider the following features:\n",
    "\n",
    "- `Location` (converted to binary dummy features)\n",
    "- `Bathrooms`\n",
    "- `Car Parks`\n",
    "- `Furnishing`\n",
    "- `Rooms Num`\n",
    "- `Property Type Supergroup`\n",
    "- `Size Num`\n",
    "\n",
    "And the model will be trained to predict any of the three price columns, `Price`, `Price per Area`, and `Price per Room`.\n",
    "\n",
    "Lastly, I will make the assumption that a missing entries for `Car Parks` is 0. While not necessarily true, it is likely to be the case for many entries. However, I will not make the same assumption for `Bathrooms`, as a (built up) property will have at least one bathroom."
   ]
  },
  {
   "cell_type": "code",
   "execution_count": 32,
   "metadata": {
    "ExecuteTime": {
     "end_time": "2021-07-24T04:13:38.540071Z",
     "start_time": "2021-07-24T04:13:38.453158Z"
    }
   },
   "outputs": [],
   "source": [
    "# Remove entries with \"land area\" in the \"Size Type\" column\n",
    "Xy = properties.loc[properties[\"Size Type\"] == \"Built-up\"]\n",
    "\n",
    "# Keep only the relevant features\n",
    "Xy = Xy.loc[:, [\n",
    "    \"Location\", \"Bathrooms\", \"Car Parks\", \"Furnishing\", \n",
    "    \"Rooms Num\", \"Property Type Supergroup\", \"Size Num\", \n",
    "    \"Price\", \"Price per Area\", \"Price per Room\"]]\n",
    "\n",
    "# Fill missing Car Parks feature values\n",
    "Xy.loc[:, \"Car Parks\"] = Xy[\"Car Parks\"].fillna(0)\n",
    "\n",
    "# Remove entries with missing values\n",
    "Xy = Xy.loc[Xy.isna().sum(axis=1) == 0]\n",
    "\n",
    "# Specifically remove entries with \"Unknown\" furnishing status\n",
    "Xy = Xy.loc[Xy[\"Furnishing\"] != \"Unknown\"]\n",
    "\n",
    "# Convert to dummy features\n",
    "Xy = pd.get_dummies(Xy)"
   ]
  },
  {
   "cell_type": "code",
   "execution_count": 33,
   "metadata": {
    "ExecuteTime": {
     "end_time": "2021-07-24T04:13:39.096831Z",
     "start_time": "2021-07-24T04:13:39.090978Z"
    }
   },
   "outputs": [
    {
     "name": "stdout",
     "output_type": "stream",
     "text": [
      "Shape of data frame: (32413, 68)\n"
     ]
    }
   ],
   "source": [
    "print(\"Shape of data frame: {}\".format(Xy.shape))"
   ]
  },
  {
   "cell_type": "markdown",
   "metadata": {},
   "source": [
    "The data frame now consists of only numerical features:"
   ]
  },
  {
   "cell_type": "code",
   "execution_count": 34,
   "metadata": {
    "ExecuteTime": {
     "end_time": "2021-07-24T04:13:40.217587Z",
     "start_time": "2021-07-24T04:13:40.211726Z"
    }
   },
   "outputs": [
    {
     "name": "stdout",
     "output_type": "stream",
     "text": [
      "Data frame DTYPES:\n",
      " - float64\n",
      " - int64\n",
      " - uint8\n"
     ]
    }
   ],
   "source": [
    "print(\"Data frame DTYPES:\")\n",
    "for dtype in Xy.dtypes.unique():\n",
    "    print(\" - {}\".format(dtype))"
   ]
  },
  {
   "cell_type": "markdown",
   "metadata": {},
   "source": [
    "## Feature Selection\n",
    "Beyond the intial preprocessing, I obviously want to perform feature selection as well. Some features may be heavily correlated."
   ]
  },
  {
   "cell_type": "markdown",
   "metadata": {},
   "source": [
    "### Outlier removal\n",
    "The first step is to remove outliers from the original numerical features. Until now, I've used a robust aggregator (the median) and outliers have been irrelevant, but they can become a thorn in our side for predictive modelling.\n",
    "\n",
    "I remove `Size Num` outliers heuristically. The smallest reasonable value, as can be seen from the data, corresponds to $250$ square feet. This corresponds to a small studio apartment. Ergo I use this as the lower threshold for potential values."
   ]
  },
  {
   "cell_type": "code",
   "execution_count": 35,
   "metadata": {
    "ExecuteTime": {
     "end_time": "2021-07-24T04:13:41.124919Z",
     "start_time": "2021-07-24T04:13:41.111248Z"
    }
   },
   "outputs": [
    {
     "data": {
      "text/plain": [
       "7724      11.0\n",
       "26309    250.0\n",
       "44334    250.0\n",
       "43156    250.0\n",
       "23544    250.0\n",
       "49397    250.0\n",
       "53436    250.0\n",
       "33466    250.0\n",
       "42080    250.0\n",
       "52309    250.0\n",
       "Name: Size Num, dtype: float64"
      ]
     },
     "execution_count": 35,
     "metadata": {},
     "output_type": "execute_result"
    }
   ],
   "source": [
    "Xy[\"Size Num\"].sort_values().head(10)"
   ]
  },
  {
   "cell_type": "markdown",
   "metadata": {},
   "source": [
    "On the opposite end of the spectrum, there appear to be several unreasonably large properties ($820000$ square feet corresponds to the approximate size of the Louvre museum in Paris, France). I heuristically set the cutoff at $20000$ square feet for the maximum size of a property."
   ]
  },
  {
   "cell_type": "code",
   "execution_count": 36,
   "metadata": {
    "ExecuteTime": {
     "end_time": "2021-07-24T04:13:41.323156Z",
     "start_time": "2021-07-24T04:13:41.309483Z"
    }
   },
   "outputs": [
    {
     "data": {
      "text/plain": [
       "26310    820000.0\n",
       "2437     790000.0\n",
       "23507    690000.0\n",
       "9339     576000.0\n",
       "50850    320015.0\n",
       "43550    166821.0\n",
       "50824     60000.0\n",
       "28733     50000.0\n",
       "21072     23716.0\n",
       "45085     19180.0\n",
       "28888     18222.0\n",
       "19070     17000.0\n",
       "43686     17000.0\n",
       "12089     16500.0\n",
       "27843     15000.0\n",
       "52747     14875.0\n",
       "4688      14570.0\n",
       "38448     14410.0\n",
       "51742     13939.0\n",
       "52636     13000.0\n",
       "Name: Size Num, dtype: float64"
      ]
     },
     "execution_count": 36,
     "metadata": {},
     "output_type": "execute_result"
    }
   ],
   "source": [
    "Xy[\"Size Num\"].sort_values(ascending=False).head(20)"
   ]
  },
  {
   "cell_type": "code",
   "execution_count": 37,
   "metadata": {
    "ExecuteTime": {
     "end_time": "2021-07-24T04:13:41.441391Z",
     "start_time": "2021-07-24T04:13:41.412095Z"
    }
   },
   "outputs": [],
   "source": [
    "Xy = Xy.loc[Xy[\"Size Num\"].between(250, 20000)]"
   ]
  },
  {
   "cell_type": "markdown",
   "metadata": {},
   "source": [
    "From the remaining three originally numerical columns, `Bathrooms`, `Car Parks`, and `Rooms Num`, I trim the top and bottom $0.1\\%$ of all entries."
   ]
  },
  {
   "cell_type": "code",
   "execution_count": 38,
   "metadata": {
    "ExecuteTime": {
     "end_time": "2021-07-24T04:13:42.897153Z",
     "start_time": "2021-07-24T04:13:42.247589Z"
    }
   },
   "outputs": [],
   "source": [
    "selectors = []\n",
    "for feature in [\"Bathrooms\", \"Car Parks\", \"Rooms Num\"]:\n",
    "    selectors.append(Xy[feature].between(\n",
    "        Xy[feature].quantile(0.001), \n",
    "        Xy[feature].quantile(0.999)))\n",
    "\n",
    "Xy = Xy.loc[(~pd.DataFrame(selectors).T).sum(axis=1) == 0]"
   ]
  },
  {
   "cell_type": "markdown",
   "metadata": {},
   "source": [
    "All further feature selection will be performed on a subset of the data that will _not_ be used for training the model itself to avoid overfitting."
   ]
  },
  {
   "cell_type": "code",
   "execution_count": 39,
   "metadata": {
    "ExecuteTime": {
     "end_time": "2021-07-24T04:13:42.928400Z",
     "start_time": "2021-07-24T04:13:42.900081Z"
    }
   },
   "outputs": [],
   "source": [
    "Xy, Xy_feature_selection = sklearn.model_selection.train_test_split(\n",
    "    Xy, test_size=0.25, random_state=101)"
   ]
  },
  {
   "cell_type": "code",
   "execution_count": 40,
   "metadata": {
    "ExecuteTime": {
     "end_time": "2021-07-24T04:13:42.937191Z",
     "start_time": "2021-07-24T04:13:42.931330Z"
    }
   },
   "outputs": [
    {
     "data": {
      "text/plain": [
       "(24260, 68)"
      ]
     },
     "execution_count": 40,
     "metadata": {},
     "output_type": "execute_result"
    }
   ],
   "source": [
    "Xy.shape"
   ]
  },
  {
   "cell_type": "code",
   "execution_count": 41,
   "metadata": {
    "ExecuteTime": {
     "end_time": "2021-07-24T04:13:43.349383Z",
     "start_time": "2021-07-24T04:13:43.343524Z"
    }
   },
   "outputs": [
    {
     "data": {
      "text/plain": [
       "(8087, 68)"
      ]
     },
     "execution_count": 41,
     "metadata": {},
     "output_type": "execute_result"
    }
   ],
   "source": [
    "Xy_feature_selection.shape"
   ]
  },
  {
   "cell_type": "markdown",
   "metadata": {},
   "source": [
    "### Feature Scaling\n",
    "First, the original numerical features must be scaled (the binary dummy features don't need to be scaled)."
   ]
  },
  {
   "cell_type": "code",
   "execution_count": 42,
   "metadata": {
    "ExecuteTime": {
     "end_time": "2021-07-24T04:13:44.555101Z",
     "start_time": "2021-07-24T04:13:43.542296Z"
    }
   },
   "outputs": [
    {
     "name": "stderr",
     "output_type": "stream",
     "text": [
      "c:\\users\\commander\\anaconda3\\envs\\env\\lib\\site-packages\\seaborn\\distributions.py:2557: FutureWarning: `distplot` is a deprecated function and will be removed in a future version. Please adapt your code to use either `displot` (a figure-level function with similar flexibility) or `histplot` (an axes-level function for histograms).\n",
      "  warnings.warn(msg, FutureWarning)\n"
     ]
    },
    {
     "data": {
      "image/png": "[encoded data removed]",
      "text/plain": [
       "<Figure size 720x720 with 4 Axes>"
      ]
     },
     "metadata": {
      "needs_background": "light"
     },
     "output_type": "display_data"
    }
   ],
   "source": [
    "fig, ax = plt.subplots(2, 2, figsize=(10, 10));\n",
    "sns.countplot(data=Xy_feature_selection, x=\"Bathrooms\", ax=ax[0, 0], color=\"darkgrey\");\n",
    "ax[0, 0].set_title(\"Bathrooms\");\n",
    "sns.countplot(data=Xy_feature_selection, x=\"Car Parks\", ax=ax[0, 1], color=\"darkgrey\");\n",
    "ax[0, 1].set_title(\"Car Parks\");\n",
    "sns.countplot(data=Xy_feature_selection, x=\"Rooms Num\", ax=ax[1, 0], color=\"darkgrey\");\n",
    "ax[1, 0].set_title(\"Rooms Num\");\n",
    "sns.distplot(a=Xy_feature_selection[\"Size Num\"], bins=50, ax=ax[1, 1], color=\"darkgrey\");\n",
    "ax[1, 1].set_title(\"Size Num\");"
   ]
  },
  {
   "cell_type": "markdown",
   "metadata": {},
   "source": [
    "As none of the features seem to be normally distributed, I will simply scale them to lie between 0 and 1. Note that the data sets for training and feature selection are scaled separately!"
   ]
  },
  {
   "cell_type": "code",
   "execution_count": 43,
   "metadata": {
    "ExecuteTime": {
     "end_time": "2021-07-24T04:13:44.899818Z",
     "start_time": "2021-07-24T04:13:44.880288Z"
    }
   },
   "outputs": [],
   "source": [
    "cols = [\"Bathrooms\", \"Car Parks\", \"Rooms Num\", \"Size Num\"]\n",
    "Xy_feature_selection[cols] = sklearn.preprocessing.MinMaxScaler().fit_transform(\n",
    "    Xy_feature_selection[cols])\n",
    "Xy[cols] = sklearn.preprocessing.MinMaxScaler().fit_transform(Xy[cols])"
   ]
  },
  {
   "cell_type": "markdown",
   "metadata": {},
   "source": [
    "### Feature Correlation\n",
    "I look at the correlation between the initial numerical features to determine if they can be pruned."
   ]
  },
  {
   "cell_type": "code",
   "execution_count": 44,
   "metadata": {
    "ExecuteTime": {
     "end_time": "2021-07-24T04:13:46.282789Z",
     "start_time": "2021-07-24T04:13:45.940937Z"
    }
   },
   "outputs": [
    {
     "data": {
      "image/png": "[encoded data removed]",
      "text/plain": [
       "<Figure size 432x288 with 2 Axes>"
      ]
     },
     "metadata": {
      "needs_background": "light"
     },
     "output_type": "display_data"
    }
   ],
   "source": [
    "hm_cmap = sns.diverging_palette(240, 0, s=99, l=50, as_cmap=True)\n",
    "df = Xy_feature_selection[[\"Bathrooms\", \"Car Parks\", \"Rooms Num\", \"Size Num\"]].corr()\n",
    "sns.heatmap(data=df, vmin=-1, vmax=1, cmap=hm_cmap, annot=df, annot_kws={\"size\": 20});"
   ]
  },
  {
   "cell_type": "markdown",
   "metadata": {},
   "source": [
    "Based on the above correlation matrix, the features `Bathrooms` and `Rooms Num` both correlate very strongly with `Size Num` and can be safely removed."
   ]
  },
  {
   "cell_type": "markdown",
   "metadata": {},
   "source": [
    "Remove the actual features from the dataset(s)"
   ]
  },
  {
   "cell_type": "code",
   "execution_count": 45,
   "metadata": {
    "ExecuteTime": {
     "end_time": "2021-07-24T04:13:46.798424Z",
     "start_time": "2021-07-24T04:13:46.787682Z"
    }
   },
   "outputs": [],
   "source": [
    "Xy = Xy.drop([\"Bathrooms\", \"Rooms Num\"], axis=1)\n",
    "Xy_feature_selection = Xy_feature_selection.drop([\"Bathrooms\", \"Rooms Num\"], axis=1)"
   ]
  },
  {
   "cell_type": "markdown",
   "metadata": {},
   "source": [
    "In addition to the features, I also want to look at the potential target variables and how they correlate."
   ]
  },
  {
   "cell_type": "code",
   "execution_count": 46,
   "metadata": {
    "ExecuteTime": {
     "end_time": "2021-07-24T04:13:47.572494Z",
     "start_time": "2021-07-24T04:13:47.293108Z"
    }
   },
   "outputs": [
    {
     "data": {
      "text/plain": [
       "<matplotlib.axes._subplots.AxesSubplot at 0x1b0375420c8>"
      ]
     },
     "execution_count": 46,
     "metadata": {},
     "output_type": "execute_result"
    },
    {
     "data": {
      "image/png": "[encoded data removed]",
      "text/plain": [
       "<Figure size 432x288 with 2 Axes>"
      ]
     },
     "metadata": {
      "needs_background": "light"
     },
     "output_type": "display_data"
    }
   ],
   "source": [
    "df = Xy_feature_selection[[\"Price\", \"Price per Area\", \"Price per Room\"]].corr()\n",
    "sns.heatmap(\n",
    "    df, vmin=-1, vmax=1, cmap=hm_cmap, \n",
    "    annot=np.round(df, 2), annot_kws={\"size\": 20})"
   ]
  },
  {
   "cell_type": "markdown",
   "metadata": {},
   "source": [
    "`Price per Area` and `Price per Room` correlate very strongly so that it makes little sense to retain both. I consequently remove `Price per Room`."
   ]
  },
  {
   "cell_type": "code",
   "execution_count": 47,
   "metadata": {
    "ExecuteTime": {
     "end_time": "2021-07-24T04:13:47.941639Z",
     "start_time": "2021-07-24T04:13:47.931875Z"
    }
   },
   "outputs": [],
   "source": [
    "Xy = Xy.drop(\"Price per Room\", axis=1)\n",
    "Xy_feature_selection = Xy_feature_selection.drop(\"Price per Room\", axis=1)"
   ]
  },
  {
   "cell_type": "markdown",
   "metadata": {},
   "source": [
    "## Modelling"
   ]
  },
  {
   "cell_type": "code",
   "execution_count": 60,
   "metadata": {
    "ExecuteTime": {
     "end_time": "2021-07-24T05:14:27.188507Z",
     "start_time": "2021-07-24T05:14:27.183619Z"
    }
   },
   "outputs": [],
   "source": [
    "from mlflow import log_metric, log_param, log_artifacts\n",
    "import mlflow.sklearn\n",
    "import mlflow"
   ]
  },
  {
   "cell_type": "markdown",
   "metadata": {},
   "source": [
    "Split data into training and test set"
   ]
  },
  {
   "cell_type": "code",
   "execution_count": 49,
   "metadata": {
    "ExecuteTime": {
     "end_time": "2021-07-24T04:13:49.840913Z",
     "start_time": "2021-07-24T04:13:49.812018Z"
    }
   },
   "outputs": [],
   "source": [
    "Xy_train, Xy_test = sklearn.model_selection.train_test_split(Xy, test_size=0.2, random_state=101)\n",
    "X_train = Xy_train.drop([\"Price\", \"Price per Area\"], axis=1)\n",
    "y_train = Xy_train[[\"Price\", \"Price per Area\"]]\n",
    "X_test = Xy_test.drop([\"Price\", \"Price per Area\"], axis=1)\n",
    "y_test = Xy_test[[\"Price\", \"Price per Area\"]]"
   ]
  },
  {
   "cell_type": "markdown",
   "metadata": {},
   "source": [
    "Define convenience function to train and test a `scikit-learn` model."
   ]
  },
  {
   "cell_type": "code",
   "execution_count": 70,
   "metadata": {
    "ExecuteTime": {
     "end_time": "2021-07-24T05:20:00.856049Z",
     "start_time": "2021-07-24T05:20:00.846266Z"
    }
   },
   "outputs": [],
   "source": [
    "def train_and_test_model(\n",
    "        model, X_train=X_train, y_train=y_train, \n",
    "        X_test=X_test, y_test=y_test, **kwargs):\n",
    "    \n",
    "    mlflow.sklearn.autolog(log_models=True)\n",
    "    with mlflow.start_run():\n",
    "        model.fit(X_train, y_train, **kwargs)\n",
    "        y_pred = model.predict(X_test)\n",
    "        r2 = sklearn.metrics.r2_score(y_true=y_test, y_pred=y_pred)\n",
    "\n",
    "        log_param(\"param1\", 1)\n",
    "\n",
    "        # Log a metric; metrics can be updated throughout the run\n",
    "        log_param(\"features\", list(X_train.columns))\n",
    "        log_metric('r2', r2)\n",
    "\n",
    "        # Log an artifact (output file)\n",
    "        if not os.path.exists(\"outputs\"):\n",
    "            os.makedirs(\"outputs\")\n",
    "        with open(\"outputs/test.txt\", \"w\") as f:\n",
    "            f.write(\"hello world!\")\n",
    "        log_artifacts(\"outputs\")\n",
    "\n",
    "\n",
    "        return model, r2"
   ]
  },
  {
   "cell_type": "code",
   "execution_count": 71,
   "metadata": {
    "ExecuteTime": {
     "end_time": "2021-07-24T05:20:02.074024Z",
     "start_time": "2021-07-24T05:20:01.292455Z"
    }
   },
   "outputs": [
    {
     "name": "stderr",
     "output_type": "stream",
     "text": [
      "2021/07/24 13:20:01 WARNING mlflow.utils.autologging_utils: MLflow autologging encountered a warning: \"C:\\Users\\commander\\AppData\\Roaming\\Python\\Python37\\site-packages\\mlflow\\models\\signature.py:129: UserWarning: Hint: Inferred schema contains integer column(s). Integer columns in Python cannot represent missing values. If your input data contains missing values at inference time, it will be encoded as floats and will cause a schema enforcement error. The best way to avoid this problem is to infer the model schema based on a realistic data sample (training dataset) that includes missing values. Alternatively, you can declare integer columns as doubles (float64) whenever these columns may have missing values. See `Handling Integers With Missing Values <https://www.mlflow.org/docs/latest/models.html#handling-integers-with-missing-values>`_ for more details.\"\n"
     ]
    },
    {
     "name": "stdout",
     "output_type": "stream",
     "text": [
      "R^2 for prediction of 'Price': 0.67\n"
     ]
    },
    {
     "name": "stderr",
     "output_type": "stream",
     "text": [
      "2021/07/24 13:20:01 WARNING mlflow.utils.autologging_utils: MLflow autologging encountered a warning: \"C:\\Users\\commander\\AppData\\Roaming\\Python\\Python37\\site-packages\\mlflow\\models\\signature.py:129: UserWarning: Hint: Inferred schema contains integer column(s). Integer columns in Python cannot represent missing values. If your input data contains missing values at inference time, it will be encoded as floats and will cause a schema enforcement error. The best way to avoid this problem is to infer the model schema based on a realistic data sample (training dataset) that includes missing values. Alternatively, you can declare integer columns as doubles (float64) whenever these columns may have missing values. See `Handling Integers With Missing Values <https://www.mlflow.org/docs/latest/models.html#handling-integers-with-missing-values>`_ for more details.\"\n"
     ]
    },
    {
     "name": "stdout",
     "output_type": "stream",
     "text": [
      "R^2 for prediction of 'Price per Area': 0.51\n"
     ]
    }
   ],
   "source": [
    "model, r2 = train_and_test_model(\n",
    "    model = sklearn.linear_model.LinearRegression(), \n",
    "    X_train=X_train, y_train=y_train[\"Price\"], \n",
    "    X_test=X_test, y_test=y_test[\"Price\"])\n",
    "print(\"R^2 for prediction of 'Price': {:.2f}\".format(r2))\n",
    "\n",
    "model, r2 = train_and_test_model(\n",
    "    model = sklearn.linear_model.LinearRegression(), \n",
    "    X_train=X_train, y_train=y_train[\"Price per Area\"], \n",
    "    X_test=X_test, y_test=y_test[\"Price per Area\"])\n",
    "print(\"R^2 for prediction of 'Price per Area': {:.2f}\".format(r2))"
   ]
  },
  {
   "cell_type": "code",
   "execution_count": 73,
   "metadata": {
    "ExecuteTime": {
     "end_time": "2021-07-24T05:30:52.099207Z",
     "start_time": "2021-07-24T05:30:52.066983Z"
    }
   },
   "outputs": [
    {
     "name": "stderr",
     "output_type": "stream",
     "text": [
      "'mlflow' is not recognized as an internal or external command,\n",
      "operable program or batch file.\n"
     ]
    }
   ],
   "source": [
    "!mlflow ui"
   ]
  },
  {
   "cell_type": "markdown",
   "metadata": {},
   "source": [
    "Neither of the targets can be predicted with a satisfying accuracy. This is most likely due to the overwhelming number of sparse binary features. A neural network, unfortunately, also does not perform satisfactorily."
   ]
  },
  {
   "cell_type": "code",
   "execution_count": 84,
   "metadata": {
    "ExecuteTime": {
     "end_time": "2021-07-24T03:58:54.156232Z",
     "start_time": "2021-07-24T03:58:54.147885Z"
    }
   },
   "outputs": [],
   "source": [
    "def make_fcn_model():\n",
    "    model = keras.models.Sequential()\n",
    "    model.add(keras.layers.Dense(units=32, activation=\"relu\", input_shape=(X_train.shape[1],)))\n",
    "    model.add(keras.layers.Dense(units=32, activation=\"relu\"))\n",
    "    model.add(keras.layers.Dense(units=32, activation=\"relu\"))\n",
    "    model.add(keras.layers.Dense(units=1, activation=\"relu\"))\n",
    "    model.compile(loss=\"mse\", optimizer=\"Adam\")\n",
    "    return model"
   ]
  },
  {
   "cell_type": "code",
   "execution_count": 85,
   "metadata": {
    "ExecuteTime": {
     "end_time": "2021-07-24T04:00:33.431649Z",
     "start_time": "2021-07-24T03:58:55.077052Z"
    }
   },
   "outputs": [
    {
     "name": "stdout",
     "output_type": "stream",
     "text": [
      "R^2 for prediction of 'Price': 0.39\n",
      "R^2 for prediction of 'Price per Area': 0.56\n"
     ]
    }
   ],
   "source": [
    "model, r2 = train_and_test_model(\n",
    "    model = make_fcn_model(), \n",
    "    X_train=X_train, y_train=y_train[\"Price\"], \n",
    "    X_test=X_test, y_test=y_test[\"Price\"], \n",
    "    batch_size=8, epochs=10, verbose=0)\n",
    "print(\"R^2 for prediction of 'Price': {:.2f}\".format(r2))\n",
    "\n",
    "model, r2 = train_and_test_model(\n",
    "    model = make_fcn_model(), \n",
    "    X_train=X_train, y_train=y_train[\"Price per Area\"], \n",
    "    X_test=X_test, y_test=y_test[\"Price per Area\"], \n",
    "    batch_size=8, epochs=10, verbose=0)\n",
    "print(\"R^2 for prediction of 'Price per Area': {:.2f}\".format(r2))"
   ]
  },
  {
   "cell_type": "markdown",
   "metadata": {},
   "source": [
    "# Conclusion\n",
    "Neither a linear model nor a neural network perform sufficiently well in predicting property prices. This is unsurprising, of course, as properties are much more complex than the features captured here indicate. In particular, the summary statistics seen in the EDA show that the neighborhood alone accounts for massive differences in property prices. The remaining features used here, e.g. the property size or the number of rooms, cannot account for all variance within. A proper price prediction model for new properties would therefore require more detailed features as scraped from the property listing itself rather than just the overview page as I've done here."
   ]
  }
 ],
 "metadata": {
  "kernelspec": {
   "display_name": "Python 3",
   "language": "python",
   "name": "python3"
  },
  "language_info": {
   "codemirror_mode": {
    "name": "ipython",
    "version": 3
   },
   "file_extension": ".py",
   "mimetype": "text/x-python",
   "name": "python",
   "nbconvert_exporter": "python",
   "pygments_lexer": "ipython3",
   "version": "3.7.7"
  }
 },
 "nbformat": 4,
 "nbformat_minor": 1
}
